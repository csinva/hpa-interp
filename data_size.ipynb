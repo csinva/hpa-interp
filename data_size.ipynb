{
 "cells": [
  {
   "cell_type": "markdown",
   "metadata": {},
   "source": [
    "import packages"
   ]
  },
  {
   "cell_type": "code",
   "execution_count": 1,
   "metadata": {},
   "outputs": [],
   "source": [
    "import torch\n",
    "import torchvision.models as models\n",
    "import torch.nn as nn\n",
    "from torch.autograd import Variable\n",
    "from torch.nn import DataParallel\n",
    "from torch.utils.data.sampler import RandomSampler, SequentialSampler\n",
    "import torch.backends.cudnn as cudnn\n",
    "import numpy as np"
   ]
  },
  {
   "cell_type": "code",
   "execution_count": 2,
   "metadata": {},
   "outputs": [],
   "source": [
    "import cv2\n",
    "import pandas as pd\n",
    "from copy import deepcopy\n",
    "from tqdm import tqdm\n",
    "from importlib import import_module\n",
    "\n",
    "import os\n",
    "opj = os.path.join\n",
    "ope = os.path.exists"
   ]
  },
  {
   "cell_type": "code",
   "execution_count": 3,
   "metadata": {},
   "outputs": [
    {
     "name": "stdout",
     "output_type": "stream",
     "text": [
      "run on ip-172-31-62-205\n",
      "run on ip-172-31-62-205\n"
     ]
    }
   ],
   "source": [
    "from bestfitting.protein_clean.src.net import _init_paths\n",
    "from bestfitting.protein_clean.src.net import densenet\n",
    "from bestfitting.protein_clean.src.config.config import *\n",
    "from bestfitting.protein_clean.src.dataset import protein_dataset\n",
    "from bestfitting.protein_clean.src import train_net_base\n",
    "from bestfitting.protein_clean.src import train_cls_net\n",
    "from bestfitting.protein_clean.src.utils.augment_util import *\n",
    "from bestfitting.protein_clean.src.net.loss_funcs.kaggle_metric import prob_to_result\n",
    "from net.tool import *"
   ]
  },
  {
   "cell_type": "markdown",
   "metadata": {},
   "source": [
    "external data (HPAv18)"
   ]
  },
  {
   "cell_type": "code",
   "execution_count": 5,
   "metadata": {},
   "outputs": [
    {
     "name": "stdout",
     "output_type": "stream",
     "text": [
      "/home/ubuntu/HPA/hpa_interp/bestfitting/protein_clean/data/meta/external_meta.csv : (74606, 33)\n"
     ]
    }
   ],
   "source": [
    "header = 'external'\n",
    "fname = opj(DATA_DIR, 'meta/%s_meta.csv'%(header))\n",
    "df = pd.read_csv(fname)\n",
    "print(fname,':', df.values.shape)\n",
    "\n",
    "# image ids for external dataset \n",
    "external_id = df['Id'].values\n",
    "external_id = np.sort(external_id)"
   ]
  },
  {
   "cell_type": "code",
   "execution_count": 22,
   "metadata": {},
   "outputs": [],
   "source": [
    "# image directory\n",
    "external_orig_img_dir = '/home/ubuntu/HPA/hpa_interp/bestfitting/protein_clean/externel/HPAv18/jpg'\n",
    "external_orig2_img_dir = '/home/ubuntu/HPA/hpa_interp/bestfitting/protein_clean/externel/HPAv18_2/jpg'\n",
    "external_resize_img_dir = '/home/ubuntu/HPA/hpa_interp/bestfitting/protein_clean/data/train/external_v18_1536'\n",
    "\n",
    "# load file names\n",
    "external_orig = np.sort(os.listdir(external_orig_img_dir))\n",
    "external_orig2 = np.sort(os.listdir(external_orig2_img_dir))\n",
    "external_resize = np.sort(os.listdir(external_resize_img_dir))"
   ]
  },
  {
   "cell_type": "code",
   "execution_count": 23,
   "metadata": {},
   "outputs": [
    {
     "name": "stdout",
     "output_type": "stream",
     "text": [
      "40\n"
     ]
    }
   ],
   "source": [
    "# find images which are not in external_reize \n",
    "idx = np.argwhere(~np.isin(external_orig, external_resize)).ravel()\n",
    "wrong_fnames = external_orig[idx]\n",
    "print(len(wrong_fnames))"
   ]
  },
  {
   "cell_type": "code",
   "execution_count": 16,
   "metadata": {},
   "outputs": [
    {
     "name": "stdout",
     "output_type": "stream",
     "text": [
      "[False False False False False False False False False False False False\n",
      " False False False False False False False False False False False False\n",
      " False False False False False False False False False False False False\n",
      " False False False False]\n"
     ]
    }
   ],
   "source": [
    "# check if wrong files in external_orig are correct in external_orig2\n",
    "num = len(wrong_fnames)\n",
    "none_list = np.empty(num, dtype=bool)\n",
    "none_checking = np.empty(num, dtype=bool)\n",
    "\n",
    "for i in range(num):\n",
    "    fname = wrong_fnames[i]\n",
    "    color = fname.replace('.jpg','').split('_')[-1]\n",
    "    im = cv2.imread(opj(external_orig_img_dir, fname))\n",
    "    if im is None:\n",
    "        none_list[i] = True\n",
    "    else:\n",
    "        none_list[i] = False\n",
    "        \n",
    "    im_checking = cv2.imread(opj(external_orig2_img_dir, fname))\n",
    "    if im_checking is None:\n",
    "        none_checking[i] = True\n",
    "    else:\n",
    "        none_checking[i] = False\n",
    "print(none_checking)"
   ]
  },
  {
   "cell_type": "code",
   "execution_count": 21,
   "metadata": {},
   "outputs": [],
   "source": [
    "import shutil\n",
    "# remove wrong files in external_orig and move from external_orig2\n",
    "for i in range(num):\n",
    "    fname = wrong_fnames[i]\n",
    "    os.remove(opj(external_orig_img_dir, fname))\n",
    "    shutil.move(opj(external_orig2_img_dir, fname), opj(external_orig_img_dir, fname))\n",
    "\n",
    "    ### rerun resize code after moving files ###\n"
   ]
  },
  {
   "cell_type": "markdown",
   "metadata": {},
   "source": [
    "### Check the number of images and labels for each dataset"
   ]
  },
  {
   "cell_type": "code",
   "execution_count": 26,
   "metadata": {},
   "outputs": [],
   "source": [
    "# image directory\n",
    "external_orig_img_dir = '/home/ubuntu/HPA/hpa_interp/bestfitting/protein_clean/externel/HPAv18/jpg'\n",
    "external_orig2_img_dir = '/home/ubuntu/HPA/hpa_interp/bestfitting/protein_clean/externel/HPAv18_2/jpg'\n",
    "external_resize_img_dir = '/home/ubuntu/HPA/hpa_interp/bestfitting/protein_clean/data/train/external_v18_1536'\n",
    "\n",
    "# load file names\n",
    "external_orig = np.sort(os.listdir(external_orig_img_dir))\n",
    "external_orig2 = np.sort(os.listdir(external_orig2_img_dir))\n",
    "external_resize = np.sort(os.listdir(external_resize_img_dir))"
   ]
  },
  {
   "cell_type": "code",
   "execution_count": 27,
   "metadata": {},
   "outputs": [
    {
     "data": {
      "text/plain": [
       "298424"
      ]
     },
     "execution_count": 27,
     "metadata": {},
     "output_type": "execute_result"
    }
   ],
   "source": [
    "len(external_orig)"
   ]
  },
  {
   "cell_type": "code",
   "execution_count": 28,
   "metadata": {},
   "outputs": [
    {
     "data": {
      "text/plain": [
       "298384"
      ]
     },
     "execution_count": 28,
     "metadata": {},
     "output_type": "execute_result"
    }
   ],
   "source": [
    "len(external_orig2)"
   ]
  },
  {
   "cell_type": "code",
   "execution_count": 30,
   "metadata": {},
   "outputs": [
    {
     "data": {
      "text/plain": [
       "74606.0"
      ]
     },
     "execution_count": 30,
     "metadata": {},
     "output_type": "execute_result"
    }
   ],
   "source": [
    "len(external_resize)/4"
   ]
  },
  {
   "cell_type": "code",
   "execution_count": null,
   "metadata": {},
   "outputs": [],
   "source": [
    "print(np.sort(os.listdir(img_dir)).shape[0]/4)\n",
    "print(np.sort(os.listdir(external_img_dir)).shape[0]/4)\n",
    "print(np.sort(os.listdir(test_img_dir)).shape[0]/4)"
   ]
  },
  {
   "cell_type": "code",
   "execution_count": null,
   "metadata": {},
   "outputs": [],
   "source": [
    "img_dir = '/home/ubuntu/HPA/hpa_interp/bestfitting/protein_clean/tif/train/tifs'\n",
    "external_img_dir = '/home/ubuntu/HPA/hpa_interp/bestfitting/protein_clean/externel/HPAv18/jpg'\n",
    "test_img_dir = '/home/ubuntu/HPA/hpa_interp/bestfitting/protein_clean/tif/test/tifs'"
   ]
  },
  {
   "cell_type": "code",
   "execution_count": null,
   "metadata": {},
   "outputs": [],
   "source": [
    "print(np.sort(os.listdir(img_dir)).shape[0]/4)\n",
    "# print(np.sort(os.listdir(external_img_dir)).shape[0]/4)\n",
    "print(np.sort(os.listdir(external_img_dir)).shape[0])\n",
    "print(np.sort(os.listdir(test_img_dir)).shape[0]/4)\n"
   ]
  },
  {
   "cell_type": "code",
   "execution_count": null,
   "metadata": {},
   "outputs": [],
   "source": []
  },
  {
   "cell_type": "code",
   "execution_count": null,
   "metadata": {},
   "outputs": [],
   "source": [
    "external_img_dir = '/home/ubuntu/HPA/hpa_interp/bestfitting/protein_clean/externel/HPAv18/jpg'\n",
    "file_list = np.sort(os.listdir(external_img_dir))\n",
    "\n",
    "header = 'external'\n",
    "fname = opj(DATA_DIR, 'meta/%s_meta.csv'%(header))\n",
    "df = pd.read_csv(fname)\n",
    "external_id = df['Id'].values\n",
    "external_id = np.sort(external_id)"
   ]
  },
  {
   "cell_type": "code",
   "execution_count": null,
   "metadata": {},
   "outputs": [],
   "source": [
    "external_list = external_id.copy()\n",
    "color_list = ['_blue.jpg', '_green.jpg', '_red.jpg', '_yellow.jpg']\n",
    "img_id = None\n",
    "n_iter = 0\n",
    "\n",
    "for i in range(len(file_list)):\n",
    "    idx = i%4\n",
    "    char = color_list[idx]\n",
    "    img_id0 = img_id\n",
    "    img_id = file_list[i].replace(char, '')\n",
    "\n",
    "    if img_id != img_id0:\n",
    "        external_list[n_iter] = img_id\n",
    "        n_iter += 1\n",
    "\n",
    "external_list = np.sort(external_list)"
   ]
  },
  {
   "cell_type": "code",
   "execution_count": null,
   "metadata": {},
   "outputs": [],
   "source": [
    "np.sum(external_list == external_id) / len(external_id)"
   ]
  },
  {
   "cell_type": "code",
   "execution_count": null,
   "metadata": {},
   "outputs": [],
   "source": [
    "external_img_dir = '/home/ubuntu/HPA/hpa_interp/bestfitting/protein_clean/data/train/external_v18_1536'\n",
    "file_list = np.sort(os.listdir(external_img_dir))\n",
    "len(file_list)/4"
   ]
  },
  {
   "cell_type": "code",
   "execution_count": null,
   "metadata": {},
   "outputs": [],
   "source": [
    "file_list[8720:8730]"
   ]
  },
  {
   "cell_type": "code",
   "execution_count": null,
   "metadata": {},
   "outputs": [],
   "source": [
    "# for i in range(len(file_list)):\n",
    "#     idx = i%4\n",
    "#     char = color_list[idx]\n",
    "#     if file_list[i].find(char) == -1:\n",
    "#         print('nope', i)"
   ]
  },
  {
   "cell_type": "code",
   "execution_count": null,
   "metadata": {},
   "outputs": [],
   "source": [
    "char"
   ]
  },
  {
   "cell_type": "code",
   "execution_count": null,
   "metadata": {},
   "outputs": [],
   "source": [
    "file_list[0].find(char)"
   ]
  },
  {
   "cell_type": "code",
   "execution_count": null,
   "metadata": {},
   "outputs": [],
   "source": [
    "file_list[0].find('_green.jpg')"
   ]
  },
  {
   "cell_type": "code",
   "execution_count": null,
   "metadata": {},
   "outputs": [],
   "source": [
    "external_resize_list = external_id.copy()[:74596]\n",
    "color_list = ['_blue.jpg', '_green.jpg', '_red.jpg', '_yellow.jpg']\n",
    "img_id = None\n",
    "n_iter = 0\n",
    "\n",
    "for i in range(len(file_list)):\n",
    "    idx = i%4\n",
    "    char = color_list[idx]\n",
    "    img_id0 = img_id\n",
    "    img_id = file_list[i].replace(char, '')\n",
    "\n",
    "    if img_id != img_id0:\n",
    "        external_resize_list[n_iter] = img_id\n",
    "        n_iter += 1\n",
    "\n",
    "external_resize_list = np.sort(external_resize_list)"
   ]
  },
  {
   "cell_type": "code",
   "execution_count": null,
   "metadata": {},
   "outputs": [],
   "source": [
    "file_list[50:100]"
   ]
  },
  {
   "cell_type": "code",
   "execution_count": null,
   "metadata": {},
   "outputs": [],
   "source": [
    "i"
   ]
  },
  {
   "cell_type": "code",
   "execution_count": null,
   "metadata": {},
   "outputs": [],
   "source": [
    "len(file_list)"
   ]
  },
  {
   "cell_type": "code",
   "execution_count": null,
   "metadata": {},
   "outputs": [],
   "source": [
    "np.sum(external_list == external_id) / len(external_id)"
   ]
  },
  {
   "cell_type": "code",
   "execution_count": null,
   "metadata": {},
   "outputs": [],
   "source": []
  },
  {
   "cell_type": "code",
   "execution_count": null,
   "metadata": {},
   "outputs": [],
   "source": []
  },
  {
   "cell_type": "code",
   "execution_count": null,
   "metadata": {},
   "outputs": [],
   "source": []
  },
  {
   "cell_type": "code",
   "execution_count": null,
   "metadata": {},
   "outputs": [],
   "source": []
  },
  {
   "cell_type": "code",
   "execution_count": null,
   "metadata": {},
   "outputs": [],
   "source": []
  },
  {
   "cell_type": "code",
   "execution_count": null,
   "metadata": {},
   "outputs": [],
   "source": [
    "header = 'train'\n",
    "fname = opj(DATA_DIR, 'meta/%s_meta.csv'%(header))\n",
    "df = pd.read_csv(fname)\n",
    "print(fname,':', df.values.shape)"
   ]
  },
  {
   "cell_type": "code",
   "execution_count": null,
   "metadata": {},
   "outputs": [],
   "source": [
    "fname = opj(DATA_DIR, 'split/train_31072.csv')\n",
    "df = pd.read_csv(fname)\n",
    "print(fname,':', df.values.shape)"
   ]
  },
  {
   "cell_type": "code",
   "execution_count": null,
   "metadata": {},
   "outputs": [],
   "source": [
    "fname = opj(DATA_DIR, 'split/test_11702.csv')\n",
    "df = pd.read_csv(fname)\n",
    "print(fname,':', df.values.shape)"
   ]
  },
  {
   "cell_type": "code",
   "execution_count": null,
   "metadata": {},
   "outputs": [],
   "source": [
    "split_alias = 'random_folds5'\n",
    "num = []\n",
    "for fold in np.arange(5):\n",
    "    fname = opj(DATA_DIR, 'split', split_alias, \"random_train_cv{}.csv\".format(fold))\n",
    "    df = pd.read_csv(fname)\n",
    "    print(fname,':', df.values.shape)\n",
    "    num.append(df.values.shape[0])\n",
    "    \n",
    "for fold in np.arange(5):\n",
    "    fname = opj(DATA_DIR, 'split', split_alias, \"random_valid_cv{}.csv\".format(fold))\n",
    "    df = pd.read_csv(fname)\n",
    "    print(fname,':', df.values.shape, ';sum:', num[fold] + df.values.shape[0])    "
   ]
  },
  {
   "cell_type": "code",
   "execution_count": null,
   "metadata": {},
   "outputs": [],
   "source": [
    "split_alias = 'random_ext_folds5'\n",
    "num = []\n",
    "for fold in np.arange(5):\n",
    "    fname = opj(DATA_DIR, 'split', split_alias, \"random_train_cv{}.csv\".format(fold))\n",
    "    df = pd.read_csv(fname)\n",
    "    print(fname,':', df.values.shape)\n",
    "    num.append(df.values.shape[0])\n",
    "    \n",
    "for fold in np.arange(5):\n",
    "    fname = opj(DATA_DIR, 'split', split_alias, \"random_valid_cv{}.csv\".format(fold))\n",
    "    df = pd.read_csv(fname)\n",
    "    print(fname,':', df.values.shape, ';sum:', num[fold] + df.values.shape[0])    "
   ]
  },
  {
   "cell_type": "code",
   "execution_count": null,
   "metadata": {},
   "outputs": [],
   "source": [
    "split_alias = 'random_ext_noleak_clean_folds5'\n",
    "num = []\n",
    "for fold in np.arange(5):\n",
    "    fname = opj(DATA_DIR, 'split', split_alias, \"random_train_cv{}.csv\".format(fold))\n",
    "    df = pd.read_csv(fname)\n",
    "    print(fname,':', df.values.shape)\n",
    "    num.append(df.values.shape[0])\n",
    "    \n",
    "for fold in np.arange(5):\n",
    "    fname = opj(DATA_DIR, 'split', split_alias, \"random_valid_cv{}.csv\".format(fold))\n",
    "    df = pd.read_csv(fname)\n",
    "    print(fname,':', df.values.shape, ';sum:', num[fold] + df.values.shape[0])    "
   ]
  },
  {
   "cell_type": "code",
   "execution_count": null,
   "metadata": {},
   "outputs": [],
   "source": [
    "img_dir = '/home/ubuntu/HPA/hpa_interp/bestfitting/protein_clean/data/train/images_1536'\n",
    "external_img_dir = '/home/ubuntu/HPA/hpa_interp/bestfitting/protein_clean/data/train/external_v18_1536'\n",
    "test_img_dir = '/home/ubuntu/HPA/hpa_interp/bestfitting/protein_clean/data/test/images_1536'"
   ]
  },
  {
   "cell_type": "code",
   "execution_count": null,
   "metadata": {},
   "outputs": [],
   "source": [
    "print(np.sort(os.listdir(img_dir)).shape[0]/4)\n",
    "print(np.sort(os.listdir(external_img_dir)).shape[0]/4)\n",
    "print(np.sort(os.listdir(test_img_dir)).shape[0]/4)"
   ]
  },
  {
   "cell_type": "code",
   "execution_count": null,
   "metadata": {},
   "outputs": [],
   "source": [
    "img_dir = '/home/ubuntu/HPA/hpa_interp/bestfitting/protein_clean/tif/train/tifs'\n",
    "external_img_dir = '/home/ubuntu/HPA/hpa_interp/bestfitting/protein_clean/externel/HPAv18/jpg'\n",
    "test_img_dir = '/home/ubuntu/HPA/hpa_interp/bestfitting/protein_clean/tif/test/tifs'"
   ]
  },
  {
   "cell_type": "code",
   "execution_count": null,
   "metadata": {},
   "outputs": [],
   "source": [
    "print(np.sort(os.listdir(img_dir)).shape[0]/4)\n",
    "# print(np.sort(os.listdir(external_img_dir)).shape[0]/4)\n",
    "print(np.sort(os.listdir(external_img_dir)).shape[0])\n",
    "print(np.sort(os.listdir(test_img_dir)).shape[0]/4)\n"
   ]
  },
  {
   "cell_type": "code",
   "execution_count": null,
   "metadata": {},
   "outputs": [],
   "source": []
  },
  {
   "cell_type": "code",
   "execution_count": null,
   "metadata": {},
   "outputs": [],
   "source": [
    "external_img_dir = '/home/ubuntu/HPA/hpa_interp/bestfitting/protein_clean/externel/HPAv18/jpg'\n",
    "file_list = np.sort(os.listdir(external_img_dir))\n",
    "\n",
    "header = 'external'\n",
    "fname = opj(DATA_DIR, 'meta/%s_meta.csv'%(header))\n",
    "df = pd.read_csv(fname)\n",
    "external_id = df['Id'].values\n",
    "external_id = np.sort(external_id)"
   ]
  },
  {
   "cell_type": "code",
   "execution_count": null,
   "metadata": {},
   "outputs": [],
   "source": [
    "external_list = external_id.copy()\n",
    "color_list = ['_blue.jpg', '_green.jpg', '_red.jpg', '_yellow.jpg']\n",
    "img_id = None\n",
    "n_iter = 0\n",
    "\n",
    "for i in range(len(file_list)):\n",
    "    idx = i%4\n",
    "    char = color_list[idx]\n",
    "    img_id0 = img_id\n",
    "    img_id = file_list[i].replace(char, '')\n",
    "\n",
    "    if img_id != img_id0:\n",
    "        external_list[n_iter] = img_id\n",
    "        n_iter += 1\n",
    "\n",
    "external_list = np.sort(external_list)"
   ]
  },
  {
   "cell_type": "code",
   "execution_count": null,
   "metadata": {},
   "outputs": [],
   "source": [
    "np.sum(external_list == external_id) / len(external_id)"
   ]
  },
  {
   "cell_type": "code",
   "execution_count": null,
   "metadata": {},
   "outputs": [],
   "source": [
    "external_img_dir = '/home/ubuntu/HPA/hpa_interp/bestfitting/protein_clean/data/train/external_v18_1536'\n",
    "file_list = np.sort(os.listdir(external_img_dir))\n",
    "len(file_list)/4"
   ]
  },
  {
   "cell_type": "code",
   "execution_count": null,
   "metadata": {},
   "outputs": [],
   "source": [
    "file_list[8720:8730]"
   ]
  },
  {
   "cell_type": "code",
   "execution_count": null,
   "metadata": {},
   "outputs": [],
   "source": [
    "# for i in range(len(file_list)):\n",
    "#     idx = i%4\n",
    "#     char = color_list[idx]\n",
    "#     if file_list[i].find(char) == -1:\n",
    "#         print('nope', i)"
   ]
  },
  {
   "cell_type": "code",
   "execution_count": null,
   "metadata": {},
   "outputs": [],
   "source": [
    "char"
   ]
  },
  {
   "cell_type": "code",
   "execution_count": null,
   "metadata": {},
   "outputs": [],
   "source": [
    "file_list[0].find(char)"
   ]
  },
  {
   "cell_type": "code",
   "execution_count": null,
   "metadata": {},
   "outputs": [],
   "source": [
    "file_list[0].find('_green.jpg')"
   ]
  },
  {
   "cell_type": "code",
   "execution_count": null,
   "metadata": {},
   "outputs": [],
   "source": [
    "external_resize_list = external_id.copy()[:74596]\n",
    "color_list = ['_blue.jpg', '_green.jpg', '_red.jpg', '_yellow.jpg']\n",
    "img_id = None\n",
    "n_iter = 0\n",
    "\n",
    "for i in range(len(file_list)):\n",
    "    idx = i%4\n",
    "    char = color_list[idx]\n",
    "    img_id0 = img_id\n",
    "    img_id = file_list[i].replace(char, '')\n",
    "\n",
    "    if img_id != img_id0:\n",
    "        external_resize_list[n_iter] = img_id\n",
    "        n_iter += 1\n",
    "\n",
    "external_resize_list = np.sort(external_resize_list)"
   ]
  },
  {
   "cell_type": "code",
   "execution_count": null,
   "metadata": {},
   "outputs": [],
   "source": [
    "file_list[50:100]"
   ]
  },
  {
   "cell_type": "code",
   "execution_count": null,
   "metadata": {},
   "outputs": [],
   "source": [
    "i"
   ]
  },
  {
   "cell_type": "code",
   "execution_count": null,
   "metadata": {},
   "outputs": [],
   "source": [
    "len(file_list)"
   ]
  },
  {
   "cell_type": "code",
   "execution_count": null,
   "metadata": {},
   "outputs": [],
   "source": [
    "np.sum(external_list == external_id) / len(external_id)"
   ]
  }
 ],
 "metadata": {
  "kernelspec": {
   "display_name": "Environment (conda_pytorch_p36)",
   "language": "python",
   "name": "conda_pytorch_p36"
  },
  "language_info": {
   "codemirror_mode": {
    "name": "ipython",
    "version": 3
   },
   "file_extension": ".py",
   "mimetype": "text/x-python",
   "name": "python",
   "nbconvert_exporter": "python",
   "pygments_lexer": "ipython3",
   "version": "3.6.5"
  }
 },
 "nbformat": 4,
 "nbformat_minor": 2
}
