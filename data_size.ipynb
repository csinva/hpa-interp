{
 "cells": [
  {
   "cell_type": "code",
   "execution_count": 1,
   "metadata": {},
   "outputs": [],
   "source": [
    "import torch\n",
    "import torchvision.models as models\n",
    "import torch.nn as nn\n",
    "from torch.autograd import Variable\n",
    "from torch.nn import DataParallel\n",
    "from torch.utils.data.sampler import RandomSampler, SequentialSampler\n",
    "import torch.backends.cudnn as cudnn\n",
    "import numpy as np"
   ]
  },
  {
   "cell_type": "code",
   "execution_count": 2,
   "metadata": {},
   "outputs": [],
   "source": [
    "import cv2\n",
    "import pandas as pd\n",
    "from copy import deepcopy\n",
    "from tqdm import tqdm\n",
    "from importlib import import_module\n",
    "\n",
    "import os\n",
    "opj = os.path.join\n",
    "ope = os.path.exists"
   ]
  },
  {
   "cell_type": "code",
   "execution_count": 3,
   "metadata": {},
   "outputs": [
    {
     "name": "stdout",
     "output_type": "stream",
     "text": [
      "run on ip-172-31-62-205\n",
      "run on ip-172-31-62-205\n"
     ]
    }
   ],
   "source": [
    "from bestfitting.protein_clean.src.net import _init_paths\n",
    "from bestfitting.protein_clean.src.net import densenet\n",
    "from bestfitting.protein_clean.src.config.config import *\n",
    "from bestfitting.protein_clean.src.dataset import protein_dataset\n",
    "from bestfitting.protein_clean.src import train_net_base\n",
    "from bestfitting.protein_clean.src import train_cls_net\n",
    "from bestfitting.protein_clean.src.utils.augment_util import *\n",
    "from bestfitting.protein_clean.src.net.loss_funcs.kaggle_metric import prob_to_result\n",
    "from net.tool import *"
   ]
  },
  {
   "cell_type": "code",
   "execution_count": 99,
   "metadata": {},
   "outputs": [
    {
     "name": "stdout",
     "output_type": "stream",
     "text": [
      "/home/ubuntu/HPA/hpa_interp/bestfitting/protein_clean/data/meta/external_meta.csv : (74606, 33)\n"
     ]
    }
   ],
   "source": [
    "header = 'external'\n",
    "fname = opj(DATA_DIR, 'meta/%s_meta.csv'%(header))\n",
    "df = pd.read_csv(fname)\n",
    "print(fname,':', df.values.shape)"
   ]
  },
  {
   "cell_type": "code",
   "execution_count": 100,
   "metadata": {},
   "outputs": [
    {
     "name": "stdout",
     "output_type": "stream",
     "text": [
      "/home/ubuntu/HPA/hpa_interp/bestfitting/protein_clean/data/meta/train_meta.csv : (31072, 31)\n"
     ]
    }
   ],
   "source": [
    "header = 'train'\n",
    "fname = opj(DATA_DIR, 'meta/%s_meta.csv'%(header))\n",
    "df = pd.read_csv(fname)\n",
    "print(fname,':', df.values.shape)"
   ]
  },
  {
   "cell_type": "code",
   "execution_count": 101,
   "metadata": {},
   "outputs": [
    {
     "name": "stdout",
     "output_type": "stream",
     "text": [
      "/home/ubuntu/HPA/hpa_interp/bestfitting/protein_clean/data/split/train_31072.csv : (31072, 31)\n"
     ]
    }
   ],
   "source": [
    "fname = opj(DATA_DIR, 'split/train_31072.csv')\n",
    "df = pd.read_csv(fname)\n",
    "print(fname,':', df.values.shape)"
   ]
  },
  {
   "cell_type": "code",
   "execution_count": 63,
   "metadata": {},
   "outputs": [
    {
     "name": "stdout",
     "output_type": "stream",
     "text": [
      "/home/ubuntu/HPA/hpa_interp/bestfitting/protein_clean/data/split/test_11702.csv : (11702, 2)\n"
     ]
    }
   ],
   "source": [
    "fname = opj(DATA_DIR, 'split/test_11702.csv')\n",
    "df = pd.read_csv(fname)\n",
    "print(fname,':', df.values.shape)"
   ]
  },
  {
   "cell_type": "code",
   "execution_count": 53,
   "metadata": {},
   "outputs": [
    {
     "name": "stdout",
     "output_type": "stream",
     "text": [
      "/home/ubuntu/HPA/hpa_interp/bestfitting/protein_clean/data/split/random_folds5/random_train_cv0.csv : (24922, 31)\n",
      "/home/ubuntu/HPA/hpa_interp/bestfitting/protein_clean/data/split/random_folds5/random_train_cv1.csv : (24801, 31)\n",
      "/home/ubuntu/HPA/hpa_interp/bestfitting/protein_clean/data/split/random_folds5/random_train_cv2.csv : (24822, 31)\n",
      "/home/ubuntu/HPA/hpa_interp/bestfitting/protein_clean/data/split/random_folds5/random_train_cv3.csv : (24893, 31)\n",
      "/home/ubuntu/HPA/hpa_interp/bestfitting/protein_clean/data/split/random_folds5/random_train_cv4.csv : (24850, 31)\n",
      "/home/ubuntu/HPA/hpa_interp/bestfitting/protein_clean/data/split/random_folds5/random_valid_cv0.csv : (6150, 31) ;sum: 31072\n",
      "/home/ubuntu/HPA/hpa_interp/bestfitting/protein_clean/data/split/random_folds5/random_valid_cv1.csv : (6271, 31) ;sum: 31072\n",
      "/home/ubuntu/HPA/hpa_interp/bestfitting/protein_clean/data/split/random_folds5/random_valid_cv2.csv : (6250, 31) ;sum: 31072\n",
      "/home/ubuntu/HPA/hpa_interp/bestfitting/protein_clean/data/split/random_folds5/random_valid_cv3.csv : (6179, 31) ;sum: 31072\n",
      "/home/ubuntu/HPA/hpa_interp/bestfitting/protein_clean/data/split/random_folds5/random_valid_cv4.csv : (6222, 31) ;sum: 31072\n"
     ]
    }
   ],
   "source": [
    "split_alias = 'random_folds5'\n",
    "num = []\n",
    "for fold in np.arange(5):\n",
    "    fname = opj(DATA_DIR, 'split', split_alias, \"random_train_cv{}.csv\".format(fold))\n",
    "    df = pd.read_csv(fname)\n",
    "    print(fname,':', df.values.shape)\n",
    "    num.append(df.values.shape[0])\n",
    "    \n",
    "for fold in np.arange(5):\n",
    "    fname = opj(DATA_DIR, 'split', split_alias, \"random_valid_cv{}.csv\".format(fold))\n",
    "    df = pd.read_csv(fname)\n",
    "    print(fname,':', df.values.shape, ';sum:', num[fold] + df.values.shape[0])    "
   ]
  },
  {
   "cell_type": "code",
   "execution_count": 54,
   "metadata": {},
   "outputs": [
    {
     "name": "stdout",
     "output_type": "stream",
     "text": [
      "/home/ubuntu/HPA/hpa_interp/bestfitting/protein_clean/data/split/random_ext_folds5/random_train_cv0.csv : (84587, 33)\n",
      "/home/ubuntu/HPA/hpa_interp/bestfitting/protein_clean/data/split/random_ext_folds5/random_train_cv1.csv : (84563, 33)\n",
      "/home/ubuntu/HPA/hpa_interp/bestfitting/protein_clean/data/split/random_ext_folds5/random_train_cv2.csv : (84485, 33)\n",
      "/home/ubuntu/HPA/hpa_interp/bestfitting/protein_clean/data/split/random_ext_folds5/random_train_cv3.csv : (84588, 33)\n",
      "/home/ubuntu/HPA/hpa_interp/bestfitting/protein_clean/data/split/random_ext_folds5/random_train_cv4.csv : (84489, 33)\n",
      "/home/ubuntu/HPA/hpa_interp/bestfitting/protein_clean/data/split/random_ext_folds5/random_valid_cv0.csv : (21091, 33) ;sum: 105678\n",
      "/home/ubuntu/HPA/hpa_interp/bestfitting/protein_clean/data/split/random_ext_folds5/random_valid_cv1.csv : (21115, 33) ;sum: 105678\n",
      "/home/ubuntu/HPA/hpa_interp/bestfitting/protein_clean/data/split/random_ext_folds5/random_valid_cv2.csv : (21193, 33) ;sum: 105678\n",
      "/home/ubuntu/HPA/hpa_interp/bestfitting/protein_clean/data/split/random_ext_folds5/random_valid_cv3.csv : (21090, 33) ;sum: 105678\n",
      "/home/ubuntu/HPA/hpa_interp/bestfitting/protein_clean/data/split/random_ext_folds5/random_valid_cv4.csv : (21189, 33) ;sum: 105678\n"
     ]
    }
   ],
   "source": [
    "split_alias = 'random_ext_folds5'\n",
    "num = []\n",
    "for fold in np.arange(5):\n",
    "    fname = opj(DATA_DIR, 'split', split_alias, \"random_train_cv{}.csv\".format(fold))\n",
    "    df = pd.read_csv(fname)\n",
    "    print(fname,':', df.values.shape)\n",
    "    num.append(df.values.shape[0])\n",
    "    \n",
    "for fold in np.arange(5):\n",
    "    fname = opj(DATA_DIR, 'split', split_alias, \"random_valid_cv{}.csv\".format(fold))\n",
    "    df = pd.read_csv(fname)\n",
    "    print(fname,':', df.values.shape, ';sum:', num[fold] + df.values.shape[0])    "
   ]
  },
  {
   "cell_type": "code",
   "execution_count": 55,
   "metadata": {},
   "outputs": [
    {
     "name": "stdout",
     "output_type": "stream",
     "text": [
      "/home/ubuntu/HPA/hpa_interp/bestfitting/protein_clean/data/split/random_ext_noleak_clean_folds5/random_train_cv0.csv : (82749, 33)\n",
      "/home/ubuntu/HPA/hpa_interp/bestfitting/protein_clean/data/split/random_ext_noleak_clean_folds5/random_train_cv1.csv : (82711, 33)\n",
      "/home/ubuntu/HPA/hpa_interp/bestfitting/protein_clean/data/split/random_ext_noleak_clean_folds5/random_train_cv2.csv : (82645, 33)\n",
      "/home/ubuntu/HPA/hpa_interp/bestfitting/protein_clean/data/split/random_ext_noleak_clean_folds5/random_train_cv3.csv : (82767, 33)\n",
      "/home/ubuntu/HPA/hpa_interp/bestfitting/protein_clean/data/split/random_ext_noleak_clean_folds5/random_train_cv4.csv : (82660, 33)\n",
      "/home/ubuntu/HPA/hpa_interp/bestfitting/protein_clean/data/split/random_ext_noleak_clean_folds5/random_valid_cv0.csv : (19984, 33) ;sum: 102733\n",
      "/home/ubuntu/HPA/hpa_interp/bestfitting/protein_clean/data/split/random_ext_noleak_clean_folds5/random_valid_cv1.csv : (20062, 33) ;sum: 102773\n",
      "/home/ubuntu/HPA/hpa_interp/bestfitting/protein_clean/data/split/random_ext_noleak_clean_folds5/random_valid_cv2.csv : (20202, 33) ;sum: 102847\n",
      "/home/ubuntu/HPA/hpa_interp/bestfitting/protein_clean/data/split/random_ext_noleak_clean_folds5/random_valid_cv3.csv : (20060, 33) ;sum: 102827\n",
      "/home/ubuntu/HPA/hpa_interp/bestfitting/protein_clean/data/split/random_ext_noleak_clean_folds5/random_valid_cv4.csv : (20155, 33) ;sum: 102815\n"
     ]
    }
   ],
   "source": [
    "split_alias = 'random_ext_noleak_clean_folds5'\n",
    "num = []\n",
    "for fold in np.arange(5):\n",
    "    fname = opj(DATA_DIR, 'split', split_alias, \"random_train_cv{}.csv\".format(fold))\n",
    "    df = pd.read_csv(fname)\n",
    "    print(fname,':', df.values.shape)\n",
    "    num.append(df.values.shape[0])\n",
    "    \n",
    "for fold in np.arange(5):\n",
    "    fname = opj(DATA_DIR, 'split', split_alias, \"random_valid_cv{}.csv\".format(fold))\n",
    "    df = pd.read_csv(fname)\n",
    "    print(fname,':', df.values.shape, ';sum:', num[fold] + df.values.shape[0])    "
   ]
  },
  {
   "cell_type": "code",
   "execution_count": 106,
   "metadata": {},
   "outputs": [],
   "source": [
    "img_dir = '/home/ubuntu/HPA/hpa_interp/bestfitting/protein_clean/data/train/images_1536'\n",
    "external_img_dir = '/home/ubuntu/HPA/hpa_interp/bestfitting/protein_clean/data/train/external_v18_1536'\n",
    "test_img_dir = '/home/ubuntu/HPA/hpa_interp/bestfitting/protein_clean/data/test/images_1536'"
   ]
  },
  {
   "cell_type": "code",
   "execution_count": 107,
   "metadata": {},
   "outputs": [
    {
     "name": "stdout",
     "output_type": "stream",
     "text": [
      "31072.0\n",
      "74596.0\n",
      "11702.0\n"
     ]
    }
   ],
   "source": [
    "print(np.sort(os.listdir(img_dir)).shape[0]/4)\n",
    "print(np.sort(os.listdir(external_img_dir)).shape[0]/4)\n",
    "print(np.sort(os.listdir(test_img_dir)).shape[0]/4)"
   ]
  },
  {
   "cell_type": "code",
   "execution_count": 109,
   "metadata": {},
   "outputs": [],
   "source": [
    "img_dir = '/home/ubuntu/HPA/hpa_interp/bestfitting/protein_clean/tif/train/tifs'\n",
    "external_img_dir = '/home/ubuntu/HPA/hpa_interp/bestfitting/protein_clean/externel/HPAv18/jpg'\n",
    "test_img_dir = '/home/ubuntu/HPA/hpa_interp/bestfitting/protein_clean/tif/test/tifs'"
   ]
  },
  {
   "cell_type": "code",
   "execution_count": 110,
   "metadata": {},
   "outputs": [
    {
     "name": "stdout",
     "output_type": "stream",
     "text": [
      "31072.0\n",
      "74606.0\n",
      "11702.0\n"
     ]
    }
   ],
   "source": [
    "print(np.sort(os.listdir(img_dir)).shape[0]/4)\n",
    "print(np.sort(os.listdir(external_img_dir)).shape[0]/4)\n",
    "print(np.sort(os.listdir(test_img_dir)).shape[0]/4)\n"
   ]
  },
  {
   "cell_type": "code",
   "execution_count": null,
   "metadata": {},
   "outputs": [],
   "source": []
  },
  {
   "cell_type": "code",
   "execution_count": 167,
   "metadata": {},
   "outputs": [],
   "source": [
    "external_img_dir = '/home/ubuntu/HPA/hpa_interp/bestfitting/protein_clean/externel/HPAv18/jpg'\n",
    "file_list = np.sort(os.listdir(external_img_dir))\n",
    "\n",
    "header = 'external'\n",
    "fname = opj(DATA_DIR, 'meta/%s_meta.csv'%(header))\n",
    "df = pd.read_csv(fname)\n",
    "external_id = df['Id'].values\n",
    "external_id = np.sort(external_id)"
   ]
  },
  {
   "cell_type": "code",
   "execution_count": 190,
   "metadata": {},
   "outputs": [],
   "source": [
    "external_list = external_id.copy()\n",
    "color_list = ['_blue.jpg', '_green.jpg', '_red.jpg', '_yellow.jpg']\n",
    "img_id = None\n",
    "n_iter = 0\n",
    "\n",
    "for i in range(len(file_list)):\n",
    "    idx = i%4\n",
    "    char = color_list[idx]\n",
    "    img_id0 = img_id\n",
    "    img_id = file_list[i].replace(char, '')\n",
    "\n",
    "    if img_id != img_id0:\n",
    "        external_list[n_iter] = img_id\n",
    "        n_iter += 1\n",
    "\n",
    "external_list = np.sort(external_list)"
   ]
  },
  {
   "cell_type": "code",
   "execution_count": 192,
   "metadata": {},
   "outputs": [
    {
     "data": {
      "text/plain": [
       "1.0"
      ]
     },
     "execution_count": 192,
     "metadata": {},
     "output_type": "execute_result"
    }
   ],
   "source": [
    "np.sum(external_list == external_id) / len(external_id)"
   ]
  },
  {
   "cell_type": "code",
   "execution_count": 237,
   "metadata": {},
   "outputs": [
    {
     "data": {
      "text/plain": [
       "74596.0"
      ]
     },
     "execution_count": 237,
     "metadata": {},
     "output_type": "execute_result"
    }
   ],
   "source": [
    "external_img_dir = '/home/ubuntu/HPA/hpa_interp/bestfitting/protein_clean/data/train/external_v18_1536'\n",
    "file_list = np.sort(os.listdir(external_img_dir))\n",
    "len(file_list)/4"
   ]
  },
  {
   "cell_type": "code",
   "execution_count": 251,
   "metadata": {},
   "outputs": [
    {
     "data": {
      "text/plain": [
       "array(['12444_610_C8_2_blue.jpg', '12444_610_C8_2_green.jpg',\n",
       "       '12444_610_C8_2_red.jpg', '12444_610_C8_3_blue.jpg',\n",
       "       '12444_610_C8_3_green.jpg', '12444_610_C8_3_yellow.jpg',\n",
       "       '12444_613_C8_1_blue.jpg', '12444_613_C8_1_green.jpg',\n",
       "       '12444_613_C8_1_red.jpg', '12444_613_C8_1_yellow.jpg'],\n",
       "      dtype='<U44')"
      ]
     },
     "execution_count": 251,
     "metadata": {},
     "output_type": "execute_result"
    }
   ],
   "source": [
    "file_list[8720:8730]"
   ]
  },
  {
   "cell_type": "code",
   "execution_count": 252,
   "metadata": {},
   "outputs": [],
   "source": [
    "# for i in range(len(file_list)):\n",
    "#     idx = i%4\n",
    "#     char = color_list[idx]\n",
    "#     if file_list[i].find(char) == -1:\n",
    "#         print('nope', i)"
   ]
  },
  {
   "cell_type": "code",
   "execution_count": 241,
   "metadata": {},
   "outputs": [
    {
     "data": {
      "text/plain": [
       "'_blue.jpg'"
      ]
     },
     "execution_count": 241,
     "metadata": {},
     "output_type": "execute_result"
    }
   ],
   "source": [
    "char"
   ]
  },
  {
   "cell_type": "code",
   "execution_count": 242,
   "metadata": {},
   "outputs": [
    {
     "data": {
      "text/plain": [
       "14"
      ]
     },
     "execution_count": 242,
     "metadata": {},
     "output_type": "execute_result"
    }
   ],
   "source": [
    "file_list[0].find(char)"
   ]
  },
  {
   "cell_type": "code",
   "execution_count": 246,
   "metadata": {},
   "outputs": [
    {
     "data": {
      "text/plain": [
       "-1"
      ]
     },
     "execution_count": 246,
     "metadata": {},
     "output_type": "execute_result"
    }
   ],
   "source": [
    "file_list[0].find('_green.jpg')"
   ]
  },
  {
   "cell_type": "code",
   "execution_count": 228,
   "metadata": {},
   "outputs": [
    {
     "ename": "IndexError",
     "evalue": "index 74596 is out of bounds for axis 0 with size 74596",
     "output_type": "error",
     "traceback": [
      "\u001b[0;31m---------------------------------------------------------------------------\u001b[0m",
      "\u001b[0;31mIndexError\u001b[0m                                Traceback (most recent call last)",
      "\u001b[0;32m<ipython-input-228-e2f1d949ff03>\u001b[0m in \u001b[0;36m<module>\u001b[0;34m()\u001b[0m\n\u001b[1;32m     11\u001b[0m \u001b[0;34m\u001b[0m\u001b[0m\n\u001b[1;32m     12\u001b[0m     \u001b[0;32mif\u001b[0m \u001b[0mimg_id\u001b[0m \u001b[0;34m!=\u001b[0m \u001b[0mimg_id0\u001b[0m\u001b[0;34m:\u001b[0m\u001b[0;34m\u001b[0m\u001b[0m\n\u001b[0;32m---> 13\u001b[0;31m         \u001b[0mexternal_resize_list\u001b[0m\u001b[0;34m[\u001b[0m\u001b[0mn_iter\u001b[0m\u001b[0;34m]\u001b[0m \u001b[0;34m=\u001b[0m \u001b[0mimg_id\u001b[0m\u001b[0;34m\u001b[0m\u001b[0m\n\u001b[0m\u001b[1;32m     14\u001b[0m         \u001b[0mn_iter\u001b[0m \u001b[0;34m+=\u001b[0m \u001b[0;36m1\u001b[0m\u001b[0;34m\u001b[0m\u001b[0m\n\u001b[1;32m     15\u001b[0m \u001b[0;34m\u001b[0m\u001b[0m\n",
      "\u001b[0;31mIndexError\u001b[0m: index 74596 is out of bounds for axis 0 with size 74596"
     ]
    }
   ],
   "source": [
    "external_resize_list = external_id.copy()[:74596]\n",
    "color_list = ['_blue.jpg', '_green.jpg', '_red.jpg', '_yellow.jpg']\n",
    "img_id = None\n",
    "n_iter = 0\n",
    "\n",
    "for i in range(len(file_list)):\n",
    "    idx = i%4\n",
    "    char = color_list[idx]\n",
    "    img_id0 = img_id\n",
    "    img_id = file_list[i].replace(char, '')\n",
    "\n",
    "    if img_id != img_id0:\n",
    "        external_resize_list[n_iter] = img_id\n",
    "        n_iter += 1\n",
    "\n",
    "external_resize_list = np.sort(external_resize_list)"
   ]
  },
  {
   "cell_type": "code",
   "execution_count": 235,
   "metadata": {},
   "outputs": [
    {
     "data": {
      "text/plain": [
       "array(['10019_200_E1_1_red.jpg', '10019_200_E1_1_yellow.jpg',\n",
       "       '10019_200_E1_2_blue.jpg', '10019_200_E1_2_green.jpg',\n",
       "       '10019_200_E1_2_red.jpg', '10019_200_E1_2_yellow.jpg',\n",
       "       '10019_201_E1_1_blue.jpg', '10019_201_E1_1_green.jpg',\n",
       "       '10019_201_E1_1_red.jpg', '10019_201_E1_1_yellow.jpg',\n",
       "       '10019_201_E1_2_blue.jpg', '10019_201_E1_2_green.jpg',\n",
       "       '10019_201_E1_2_red.jpg', '10019_201_E1_2_yellow.jpg',\n",
       "       '10019_202_E1_1_blue.jpg', '10019_202_E1_1_green.jpg',\n",
       "       '10019_202_E1_1_red.jpg', '10019_202_E1_1_yellow.jpg',\n",
       "       '10019_202_E1_2_blue.jpg', '10019_202_E1_2_green.jpg',\n",
       "       '10019_202_E1_2_red.jpg', '10019_202_E1_2_yellow.jpg',\n",
       "       '10023_100_C10_1_blue.jpg', '10023_100_C10_1_green.jpg',\n",
       "       '10023_100_C10_1_red.jpg', '10023_100_C10_1_yellow.jpg',\n",
       "       '10023_100_C10_2_blue.jpg', '10023_100_C10_2_green.jpg',\n",
       "       '10023_100_C10_2_red.jpg', '10023_100_C10_2_yellow.jpg',\n",
       "       '10023_101_C10_1_blue.jpg', '10023_101_C10_1_green.jpg',\n",
       "       '10023_101_C10_1_red.jpg', '10023_101_C10_1_yellow.jpg',\n",
       "       '10023_101_C10_2_blue.jpg', '10023_101_C10_2_green.jpg',\n",
       "       '10023_101_C10_2_red.jpg', '10023_101_C10_2_yellow.jpg',\n",
       "       '10023_82_C10_1_blue.jpg', '10023_82_C10_1_green.jpg',\n",
       "       '10023_82_C10_1_red.jpg', '10023_82_C10_1_yellow.jpg',\n",
       "       '10023_82_C10_2_blue.jpg', '10023_82_C10_2_green.jpg',\n",
       "       '10023_82_C10_2_red.jpg', '10023_82_C10_2_yellow.jpg',\n",
       "       '10025_47_H7_1_blue.jpg', '10025_47_H7_1_green.jpg',\n",
       "       '10025_47_H7_1_red.jpg', '10025_47_H7_1_yellow.jpg'], dtype='<U44')"
      ]
     },
     "execution_count": 235,
     "metadata": {},
     "output_type": "execute_result"
    }
   ],
   "source": [
    "file_list[50:100]"
   ]
  },
  {
   "cell_type": "code",
   "execution_count": 230,
   "metadata": {},
   "outputs": [
    {
     "data": {
      "text/plain": [
       "174380"
      ]
     },
     "execution_count": 230,
     "metadata": {},
     "output_type": "execute_result"
    }
   ],
   "source": [
    "i"
   ]
  },
  {
   "cell_type": "code",
   "execution_count": 233,
   "metadata": {},
   "outputs": [
    {
     "data": {
      "text/plain": [
       "298384"
      ]
     },
     "execution_count": 233,
     "metadata": {},
     "output_type": "execute_result"
    }
   ],
   "source": [
    "len(file_list)"
   ]
  },
  {
   "cell_type": "code",
   "execution_count": 192,
   "metadata": {},
   "outputs": [
    {
     "data": {
      "text/plain": [
       "1.0"
      ]
     },
     "execution_count": 192,
     "metadata": {},
     "output_type": "execute_result"
    }
   ],
   "source": [
    "np.sum(external_list == external_id) / len(external_id)"
   ]
  }
 ],
 "metadata": {
  "kernelspec": {
   "display_name": "Environment (conda_pytorch_p36)",
   "language": "python",
   "name": "conda_pytorch_p36"
  },
  "language_info": {
   "codemirror_mode": {
    "name": "ipython",
    "version": 3
   },
   "file_extension": ".py",
   "mimetype": "text/x-python",
   "name": "python",
   "nbconvert_exporter": "python",
   "pygments_lexer": "ipython3",
   "version": "3.6.5"
  }
 },
 "nbformat": 4,
 "nbformat_minor": 2
}
